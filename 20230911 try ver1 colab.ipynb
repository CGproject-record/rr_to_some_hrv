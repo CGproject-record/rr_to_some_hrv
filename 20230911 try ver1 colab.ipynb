{
  "cells": [
    {
      "cell_type": "markdown",
      "metadata": {
        "id": "view-in-github",
        "colab_type": "text"
      },
      "source": [
        "<a href=\"https://colab.research.google.com/github/CGproject-record/rr_to_some_hrv/blob/main/20230911%20try%20ver1%20colab.ipynb\" target=\"_parent\"><img src=\"https://colab.research.google.com/assets/colab-badge.svg\" alt=\"Open In Colab\"/></a>"
      ]
    },
    {
      "cell_type": "code",
      "execution_count": null,
      "id": "0a7608cf",
      "metadata": {
        "id": "0a7608cf",
        "outputId": "971ee705-6501-4c55-a1a8-64dfe9f87784"
      },
      "outputs": [
        {
          "name": "stderr",
          "output_type": "stream",
          "text": [
            "Using TensorFlow backend.\n"
          ]
        }
      ],
      "source": [
        "import os\n",
        "# # 以相對路徑變更工作目錄\n",
        "# os.chdir(r'C:/Users/PEK/test0822')\n",
        "from function_need import *"
      ]
    },
    {
      "cell_type": "code",
      "execution_count": null,
      "id": "4188dfcc",
      "metadata": {
        "id": "4188dfcc",
        "outputId": "d816fb0f-2557-4a17-f8de-f05f3189da54"
      },
      "outputs": [
        {
          "name": "stderr",
          "output_type": "stream",
          "text": [
            "b'Skipping line 31: expected 12 fields, saw 18\\nSkipping line 54: expected 12 fields, saw 18\\nSkipping line 98: expected 12 fields, saw 18\\nSkipping line 185: expected 12 fields, saw 18\\nSkipping line 357: expected 12 fields, saw 18\\n'\n"
          ]
        },
        {
          "data": {
            "text/html": [
              "<div>\n",
              "<style scoped>\n",
              "    .dataframe tbody tr th:only-of-type {\n",
              "        vertical-align: middle;\n",
              "    }\n",
              "\n",
              "    .dataframe tbody tr th {\n",
              "        vertical-align: top;\n",
              "    }\n",
              "\n",
              "    .dataframe thead th {\n",
              "        text-align: right;\n",
              "    }\n",
              "</style>\n",
              "<table border=\"1\" class=\"dataframe\">\n",
              "  <thead>\n",
              "    <tr style=\"text-align: right;\">\n",
              "      <th></th>\n",
              "      <th>Time(h:m:s)</th>\n",
              "      <th>RR(ms)</th>\n",
              "      <th>RV(%)</th>\n",
              "      <th>n</th>\n",
              "      <th>err</th>\n",
              "      <th>mean NN(ms)</th>\n",
              "      <th>SDNN(ms)</th>\n",
              "      <th>TP(ms2)</th>\n",
              "      <th>VLF(ms2)</th>\n",
              "      <th>LF(ms2)</th>\n",
              "      <th>HF(ms2)</th>\n",
              "      <th>window length(s)</th>\n",
              "    </tr>\n",
              "  </thead>\n",
              "  <tbody>\n",
              "    <tr>\n",
              "      <th>0</th>\n",
              "      <td>17:01:52</td>\n",
              "      <td>836.0</td>\n",
              "      <td>NaN</td>\n",
              "      <td>NaN</td>\n",
              "      <td>NaN</td>\n",
              "      <td>NaN</td>\n",
              "      <td>NaN</td>\n",
              "      <td>NaN</td>\n",
              "      <td>NaN</td>\n",
              "      <td>NaN</td>\n",
              "      <td>NaN</td>\n",
              "      <td>NaN</td>\n",
              "    </tr>\n",
              "    <tr>\n",
              "      <th>1</th>\n",
              "      <td>17:01:53</td>\n",
              "      <td>806.0</td>\n",
              "      <td>NaN</td>\n",
              "      <td>NaN</td>\n",
              "      <td>NaN</td>\n",
              "      <td>NaN</td>\n",
              "      <td>NaN</td>\n",
              "      <td>NaN</td>\n",
              "      <td>NaN</td>\n",
              "      <td>NaN</td>\n",
              "      <td>NaN</td>\n",
              "      <td>NaN</td>\n",
              "    </tr>\n",
              "    <tr>\n",
              "      <th>2</th>\n",
              "      <td>17:01:54</td>\n",
              "      <td>854.0</td>\n",
              "      <td>NaN</td>\n",
              "      <td>NaN</td>\n",
              "      <td>NaN</td>\n",
              "      <td>NaN</td>\n",
              "      <td>NaN</td>\n",
              "      <td>NaN</td>\n",
              "      <td>NaN</td>\n",
              "      <td>NaN</td>\n",
              "      <td>NaN</td>\n",
              "      <td>NaN</td>\n",
              "    </tr>\n",
              "    <tr>\n",
              "      <th>3</th>\n",
              "      <td>17:01:55</td>\n",
              "      <td>866.0</td>\n",
              "      <td>NaN</td>\n",
              "      <td>NaN</td>\n",
              "      <td>NaN</td>\n",
              "      <td>NaN</td>\n",
              "      <td>NaN</td>\n",
              "      <td>NaN</td>\n",
              "      <td>NaN</td>\n",
              "      <td>NaN</td>\n",
              "      <td>NaN</td>\n",
              "      <td>NaN</td>\n",
              "    </tr>\n",
              "    <tr>\n",
              "      <th>4</th>\n",
              "      <td>17:01:56</td>\n",
              "      <td>878.0</td>\n",
              "      <td>NaN</td>\n",
              "      <td>NaN</td>\n",
              "      <td>NaN</td>\n",
              "      <td>NaN</td>\n",
              "      <td>NaN</td>\n",
              "      <td>NaN</td>\n",
              "      <td>NaN</td>\n",
              "      <td>NaN</td>\n",
              "      <td>NaN</td>\n",
              "      <td>NaN</td>\n",
              "    </tr>\n",
              "    <tr>\n",
              "      <th>...</th>\n",
              "      <td>...</td>\n",
              "      <td>...</td>\n",
              "      <td>...</td>\n",
              "      <td>...</td>\n",
              "      <td>...</td>\n",
              "      <td>...</td>\n",
              "      <td>...</td>\n",
              "      <td>...</td>\n",
              "      <td>...</td>\n",
              "      <td>...</td>\n",
              "      <td>...</td>\n",
              "      <td>...</td>\n",
              "    </tr>\n",
              "    <tr>\n",
              "      <th>360</th>\n",
              "      <td>17:06:55</td>\n",
              "      <td>860.0</td>\n",
              "      <td>NaN</td>\n",
              "      <td>NaN</td>\n",
              "      <td>NaN</td>\n",
              "      <td>NaN</td>\n",
              "      <td>NaN</td>\n",
              "      <td>NaN</td>\n",
              "      <td>NaN</td>\n",
              "      <td>NaN</td>\n",
              "      <td>NaN</td>\n",
              "      <td>NaN</td>\n",
              "    </tr>\n",
              "    <tr>\n",
              "      <th>361</th>\n",
              "      <td>17:06:56</td>\n",
              "      <td>834.0</td>\n",
              "      <td>NaN</td>\n",
              "      <td>NaN</td>\n",
              "      <td>NaN</td>\n",
              "      <td>NaN</td>\n",
              "      <td>NaN</td>\n",
              "      <td>NaN</td>\n",
              "      <td>NaN</td>\n",
              "      <td>NaN</td>\n",
              "      <td>NaN</td>\n",
              "      <td>NaN</td>\n",
              "    </tr>\n",
              "    <tr>\n",
              "      <th>362</th>\n",
              "      <td>17:06:56</td>\n",
              "      <td>868.0</td>\n",
              "      <td>NaN</td>\n",
              "      <td>NaN</td>\n",
              "      <td>NaN</td>\n",
              "      <td>NaN</td>\n",
              "      <td>NaN</td>\n",
              "      <td>NaN</td>\n",
              "      <td>NaN</td>\n",
              "      <td>NaN</td>\n",
              "      <td>NaN</td>\n",
              "      <td>NaN</td>\n",
              "    </tr>\n",
              "    <tr>\n",
              "      <th>363</th>\n",
              "      <td>17:06:57</td>\n",
              "      <td>872.0</td>\n",
              "      <td>NaN</td>\n",
              "      <td>NaN</td>\n",
              "      <td>NaN</td>\n",
              "      <td>NaN</td>\n",
              "      <td>NaN</td>\n",
              "      <td>NaN</td>\n",
              "      <td>NaN</td>\n",
              "      <td>NaN</td>\n",
              "      <td>NaN</td>\n",
              "      <td>NaN</td>\n",
              "    </tr>\n",
              "    <tr>\n",
              "      <th>364</th>\n",
              "      <td>17:06:58</td>\n",
              "      <td>858.0</td>\n",
              "      <td>NaN</td>\n",
              "      <td>NaN</td>\n",
              "      <td>NaN</td>\n",
              "      <td>NaN</td>\n",
              "      <td>NaN</td>\n",
              "      <td>NaN</td>\n",
              "      <td>NaN</td>\n",
              "      <td>NaN</td>\n",
              "      <td>NaN</td>\n",
              "      <td>NaN</td>\n",
              "    </tr>\n",
              "  </tbody>\n",
              "</table>\n",
              "<p>365 rows × 12 columns</p>\n",
              "</div>"
            ],
            "text/plain": [
              "    Time(h:m:s)  RR(ms)  RV(%)   n  err  mean NN(ms)  SDNN(ms)  TP(ms2)  \\\n",
              "0      17:01:52   836.0    NaN NaN  NaN          NaN       NaN      NaN   \n",
              "1      17:01:53   806.0    NaN NaN  NaN          NaN       NaN      NaN   \n",
              "2      17:01:54   854.0    NaN NaN  NaN          NaN       NaN      NaN   \n",
              "3      17:01:55   866.0    NaN NaN  NaN          NaN       NaN      NaN   \n",
              "4      17:01:56   878.0    NaN NaN  NaN          NaN       NaN      NaN   \n",
              "..          ...     ...    ...  ..  ...          ...       ...      ...   \n",
              "360    17:06:55   860.0    NaN NaN  NaN          NaN       NaN      NaN   \n",
              "361    17:06:56   834.0    NaN NaN  NaN          NaN       NaN      NaN   \n",
              "362    17:06:56   868.0    NaN NaN  NaN          NaN       NaN      NaN   \n",
              "363    17:06:57   872.0    NaN NaN  NaN          NaN       NaN      NaN   \n",
              "364    17:06:58   858.0    NaN NaN  NaN          NaN       NaN      NaN   \n",
              "\n",
              "     VLF(ms2)  LF(ms2)  HF(ms2)  window length(s)  \n",
              "0         NaN      NaN      NaN               NaN  \n",
              "1         NaN      NaN      NaN               NaN  \n",
              "2         NaN      NaN      NaN               NaN  \n",
              "3         NaN      NaN      NaN               NaN  \n",
              "4         NaN      NaN      NaN               NaN  \n",
              "..        ...      ...      ...               ...  \n",
              "360       NaN      NaN      NaN               NaN  \n",
              "361       NaN      NaN      NaN               NaN  \n",
              "362       NaN      NaN      NaN               NaN  \n",
              "363       NaN      NaN      NaN               NaN  \n",
              "364       NaN      NaN      NaN               NaN  \n",
              "\n",
              "[365 rows x 12 columns]"
            ]
          },
          "execution_count": 2,
          "metadata": {},
          "output_type": "execute_result"
        }
      ],
      "source": [
        "# solution\n",
        "read_file = pd.read_csv('ex_rr.txt',error_bad_lines=False)\n",
        "read_file"
      ]
    },
    {
      "cell_type": "code",
      "execution_count": null,
      "id": "ad9139fa",
      "metadata": {
        "id": "ad9139fa",
        "outputId": "2ea3dbb7-fbfe-43d2-d92a-b7e0bd488f63"
      },
      "outputs": [
        {
          "data": {
            "text/plain": [
              "0      836.0\n",
              "1      806.0\n",
              "2      854.0\n",
              "3      866.0\n",
              "4      878.0\n",
              "       ...  \n",
              "360    860.0\n",
              "361    834.0\n",
              "362    868.0\n",
              "363    872.0\n",
              "364    858.0\n",
              "Name: RR(ms), Length: 365, dtype: float64"
            ]
          },
          "execution_count": 3,
          "metadata": {},
          "output_type": "execute_result"
        }
      ],
      "source": [
        "RR_data = read_file.iloc[:,1]\n",
        "RR_data"
      ]
    },
    {
      "cell_type": "code",
      "execution_count": null,
      "id": "349e89c3",
      "metadata": {
        "id": "349e89c3",
        "outputId": "fc69298f-c82a-4b7e-db92-d41f2f4cb37b"
      },
      "outputs": [
        {
          "data": {
            "text/plain": [
              "5"
            ]
          },
          "execution_count": 4,
          "metadata": {},
          "output_type": "execute_result"
        }
      ],
      "source": [
        "RR_data.isna().sum()"
      ]
    },
    {
      "cell_type": "code",
      "execution_count": null,
      "id": "458ea37c",
      "metadata": {
        "id": "458ea37c",
        "outputId": "e045abc1-86db-4b0e-8716-19bac3e6a0aa"
      },
      "outputs": [
        {
          "data": {
            "text/plain": [
              "0      836.0\n",
              "1      806.0\n",
              "2      854.0\n",
              "3      866.0\n",
              "4      878.0\n",
              "       ...  \n",
              "360    860.0\n",
              "361    834.0\n",
              "362    868.0\n",
              "363    872.0\n",
              "364    858.0\n",
              "Name: RR(ms), Length: 360, dtype: float64"
            ]
          },
          "execution_count": 5,
          "metadata": {},
          "output_type": "execute_result"
        }
      ],
      "source": [
        "RR_rm_nan = RR_data.dropna()\n",
        "RR_rm_nan"
      ]
    },
    {
      "cell_type": "code",
      "execution_count": null,
      "id": "4c8b7921",
      "metadata": {
        "id": "4c8b7921",
        "outputId": "b8703e74-b8f2-457f-e426-df4a69f60a44"
      },
      "outputs": [
        {
          "data": {
            "text/plain": [
              "0"
            ]
          },
          "execution_count": 6,
          "metadata": {},
          "output_type": "execute_result"
        }
      ],
      "source": [
        "RR_rm_nan.isna().sum()"
      ]
    },
    {
      "cell_type": "code",
      "execution_count": null,
      "id": "4be13bac",
      "metadata": {
        "id": "4be13bac"
      },
      "outputs": [],
      "source": [
        "import matplotlib.pyplot as plt"
      ]
    },
    {
      "cell_type": "code",
      "execution_count": null,
      "id": "49247617",
      "metadata": {
        "id": "49247617",
        "outputId": "12cf4140-47cc-4fdf-9ed5-e3b9e00a0cac"
      },
      "outputs": [
        {
          "data": {
            "text/plain": [
              "[<matplotlib.lines.Line2D at 0x1abdc2e05c0>]"
            ]
          },
          "execution_count": 8,
          "metadata": {},
          "output_type": "execute_result"
        },
        {
          "data": {
            "image/png": "[encoded data removed]",
            "text/plain": [
              "<Figure size 432x288 with 1 Axes>"
            ]
          },
          "metadata": {
            "needs_background": "light"
          },
          "output_type": "display_data"
        }
      ],
      "source": [
        "plt.plot(RR_rm_nan)"
      ]
    },
    {
      "cell_type": "code",
      "execution_count": null,
      "id": "3c67c227",
      "metadata": {
        "id": "3c67c227",
        "outputId": "78c1ec43-a5e4-4257-f8fd-58c4de328f2e"
      },
      "outputs": [
        {
          "data": {
            "image/png": "[encoded data removed]",
            "text/plain": [
              "<Figure size 1440x504 with 1 Axes>"
            ]
          },
          "metadata": {
            "needs_background": "light"
          },
          "output_type": "display_data"
        }
      ],
      "source": [
        "plt.figure(figsize=(20, 7))\n",
        "plt.title(\"RR-intervals\")\n",
        "plt.xlabel(\"Time (ms)\")\n",
        "plt.ylabel(\"RR-interval (ms)\")\n",
        "\n",
        "plt.plot(np.cumsum(RR_rm_nan), RR_rm_nan, label=\"RR-interval\", color=\"#A651D8\")\n",
        "plt.show()"
      ]
    },
    {
      "cell_type": "code",
      "execution_count": null,
      "id": "d827cc0c",
      "metadata": {
        "id": "d827cc0c"
      },
      "outputs": [],
      "source": [
        "hrv1=pd.DataFrame(['NA','NA','NA','NA','NA','NA','NA','NA'])\n",
        "h0=hrv1.transpose()\n",
        "h0.columns =['aFdP', 'fFdP', 'ARerr', 'DFA.Alpha.1', 'Mean.rate',\n",
        "                       'Poincar..SD2', 'shannEn', 'LF.HF.ratio.LombScargle']\n",
        "hrv1=hrv1.transpose()\n",
        "# Define HRV input parameters\n",
        "# Time Domain Settings\n",
        "settings_time = {\n",
        "    'threshold': 50,            # Computation of NNXX/pNNXX with 50 ms threshold -> NN50 & pNN50\n",
        "    'plot': True,               # If True, plots NNI histogram\n",
        "    'binsize': 7.8125           # Binsize of the NNI histogram\n",
        "}\n",
        "\n",
        "# Frequency Domain Settings\n",
        "settings_welch = {\n",
        "    'nfft': 2 ** 12,            # Number of points computed for the FFT result\n",
        "    'detrend': True,            # If True, detrend NNI series by subtracting the mean NNI\n",
        "    'window': 'hanning'         # Window function used for PSD estimation\n",
        "}\n",
        "\n",
        "settings_lomb = {\n",
        "    'nfft': 2**8,               # Number of points computed for the Lomb PSD\n",
        "    'ma_size': 5                # Moving average window size\n",
        "}\n",
        "\n",
        "settings_ar = {\n",
        "    'nfft': 2**12,              # Number of points computed for the AR PSD\n",
        "    'order': 32                 # AR order\n",
        "}\n",
        "\n",
        "# Nonlinear Parameter Settings\n",
        "settings_nonlinear = {\n",
        "    'short': [4, 16],           # Interval limits of the short term fluctuations\n",
        "    'long': [17, 64],           # Interval limits of the long term fluctuations\n",
        "    'dim': 2,                   # Sample entropy embedding dimension\n",
        "    'tolerance': None           # Tolerance distance for which the vectors to be considered equal (None sets default values)\n",
        "}\n",
        "fs = 125"
      ]
    },
    {
      "cell_type": "code",
      "execution_count": null,
      "id": "bc6484e5",
      "metadata": {
        "id": "bc6484e5"
      },
      "outputs": [],
      "source": [
        "import warnings"
      ]
    },
    {
      "cell_type": "code",
      "execution_count": null,
      "id": "7a26241f",
      "metadata": {
        "id": "7a26241f",
        "outputId": "968a54d6-0e87-48d4-bc6e-505ed4fcdd7a"
      },
      "outputs": [
        {
          "name": "stderr",
          "output_type": "stream",
          "text": [
            "c:\\users\\pek\\appdata\\local\\programs\\python\\python36\\lib\\site-packages\\pyhrv\\time_domain.py:576: UserWarning: CAUTION: The TINN computation is currently providing incorrect results in the most cases due to a malfunction of the function. This function will be reviewed over the next updates to solve this issue\n",
            "  warnings.warn('CAUTION: The TINN computation is currently providing incorrect results in the most cases due to a '\n",
            "c:\\users\\pek\\appdata\\local\\programs\\python\\python36\\lib\\site-packages\\pandas\\plotting\\_matplotlib\\misc.py:411: UserWarning: Requested projection is different from current axis projection, creating new axis with requested projection.\n",
            "  ax = plt.gca(xlim=(1, n), ylim=(-1.0, 1.0))\n",
            "c:\\users\\pek\\appdata\\local\\programs\\python\\python36\\lib\\site-packages\\statsmodels\\tsa\\base\\tsa_model.py:579: ValueWarning: An unsupported index was provided and will be ignored when e.g. forecasting.\n",
            "  ' ignored when e.g. forecasting.', ValueWarning)\n",
            "c:\\users\\pek\\appdata\\local\\programs\\python\\python36\\lib\\site-packages\\statsmodels\\tsa\\base\\tsa_model.py:579: ValueWarning: An unsupported index was provided and will be ignored when e.g. forecasting.\n",
            "  ' ignored when e.g. forecasting.', ValueWarning)\n"
          ]
        }
      ],
      "source": [
        "hrv_part1 = hrvtransform_filter_rr(RR_rm_nan,fs,hrv1,settings_time,settings_welch,settings_ar,settings_lomb,settings_nonlinear)"
      ]
    },
    {
      "cell_type": "code",
      "execution_count": null,
      "id": "4ab28d73",
      "metadata": {
        "id": "4ab28d73",
        "outputId": "8bd209e3-6e78-4818-ca04-31b46af9d606"
      },
      "outputs": [
        {
          "data": {
            "text/html": [
              "<div>\n",
              "<style scoped>\n",
              "    .dataframe tbody tr th:only-of-type {\n",
              "        vertical-align: middle;\n",
              "    }\n",
              "\n",
              "    .dataframe tbody tr th {\n",
              "        vertical-align: top;\n",
              "    }\n",
              "\n",
              "    .dataframe thead th {\n",
              "        text-align: right;\n",
              "    }\n",
              "</style>\n",
              "<table border=\"1\" class=\"dataframe\">\n",
              "  <thead>\n",
              "    <tr style=\"text-align: right;\">\n",
              "      <th></th>\n",
              "      <th>aFdP</th>\n",
              "      <th>fFdP</th>\n",
              "      <th>ARerr</th>\n",
              "      <th>DFA.Alpha.1</th>\n",
              "      <th>Mean.rate</th>\n",
              "      <th>Poincar..SD2</th>\n",
              "      <th>shannEn</th>\n",
              "      <th>LF.HF.ratio.LombScargle</th>\n",
              "    </tr>\n",
              "  </thead>\n",
              "  <tbody>\n",
              "    <tr>\n",
              "      <th>1</th>\n",
              "      <td>-0.999404</td>\n",
              "      <td>-0.999156</td>\n",
              "      <td>0.029569</td>\n",
              "      <td>0.725628</td>\n",
              "      <td>70.481016</td>\n",
              "      <td>0.030566</td>\n",
              "      <td>5.519882</td>\n",
              "      <td>0.454077</td>\n",
              "    </tr>\n",
              "  </tbody>\n",
              "</table>\n",
              "</div>"
            ],
            "text/plain": [
              "       aFdP      fFdP     ARerr  DFA.Alpha.1  Mean.rate  Poincar..SD2  \\\n",
              "1 -0.999404 -0.999156  0.029569     0.725628  70.481016      0.030566   \n",
              "\n",
              "    shannEn  LF.HF.ratio.LombScargle  \n",
              "1  5.519882                 0.454077  "
            ]
          },
          "execution_count": 13,
          "metadata": {},
          "output_type": "execute_result"
        }
      ],
      "source": [
        "hrv_part1"
      ]
    },
    {
      "cell_type": "code",
      "execution_count": null,
      "id": "09395f78",
      "metadata": {
        "id": "09395f78"
      },
      "outputs": [],
      "source": [
        "#generate HRV from hrvanalysis"
      ]
    },
    {
      "cell_type": "code",
      "execution_count": null,
      "id": "94e0d0dd",
      "metadata": {
        "id": "94e0d0dd"
      },
      "outputs": [],
      "source": [
        "from hrvanalysis import get_time_domain_features,get_geometrical_features,get_frequency_domain_features,get_csi_cvi_features,get_poincare_plot_features,get_sampen\n",
        "nn_intervals_list = RR_rm_nan\n"
      ]
    },
    {
      "cell_type": "code",
      "execution_count": null,
      "id": "b970e419",
      "metadata": {
        "id": "b970e419",
        "outputId": "93cac832-d52f-47c2-f63c-81dd4d2fe814"
      },
      "outputs": [
        {
          "data": {
            "text/plain": [
              "{'mean_nni': 852.1555555555556,\n",
              " 'sdnn': 26.8614151460032,\n",
              " 'sdsd': 31.873822084766097,\n",
              " 'nni_50': 22,\n",
              " 'pnni_50': 6.128133704735376,\n",
              " 'nni_20': 183,\n",
              " 'pnni_20': 50.97493036211699,\n",
              " 'rmssd': 31.873880995159553,\n",
              " 'median_nni': 856.0,\n",
              " 'range_nni': 220.0,\n",
              " 'cvsd': 0.03740382936819516,\n",
              " 'cvnni': 0.03152172742509568,\n",
              " 'mean_hr': 70.4810163798876,\n",
              " 'max_hr': 82.87292817679558,\n",
              " 'min_hr': 63.559322033898304,\n",
              " 'std_hr': 2.270499353642716}"
            ]
          },
          "execution_count": 16,
          "metadata": {},
          "output_type": "execute_result"
        }
      ],
      "source": [
        "time_domain_features = get_time_domain_features(nn_intervals_list)\n",
        "time_domain_features"
      ]
    },
    {
      "cell_type": "code",
      "execution_count": null,
      "id": "ee506f63",
      "metadata": {
        "id": "ee506f63",
        "outputId": "71856d4f-f4bb-4741-dcea-6b3506b6cc5b"
      },
      "outputs": [
        {
          "data": {
            "text/plain": [
              "16"
            ]
          },
          "execution_count": 17,
          "metadata": {},
          "output_type": "execute_result"
        }
      ],
      "source": [
        "len(time_domain_features)"
      ]
    },
    {
      "cell_type": "code",
      "execution_count": null,
      "id": "5ee8598b",
      "metadata": {
        "id": "5ee8598b",
        "outputId": "049c370b-0b94-449f-bf59-04bcc3019f3d"
      },
      "outputs": [
        {
          "data": {
            "text/plain": [
              "{'triangular_index': 7.2, 'tinn': None}"
            ]
          },
          "execution_count": 18,
          "metadata": {},
          "output_type": "execute_result"
        }
      ],
      "source": [
        "get_geometrical_features(nn_intervals_list)"
      ]
    },
    {
      "cell_type": "code",
      "execution_count": null,
      "id": "3d57bd17",
      "metadata": {
        "id": "3d57bd17",
        "outputId": "3b571d72-c8b3-48be-f219-440499d321d6"
      },
      "outputs": [
        {
          "data": {
            "text/plain": [
              "{'lf': 114.47680799375303,\n",
              " 'hf': 198.44872605254412,\n",
              " 'lf_hf_ratio': 0.5768583667473003,\n",
              " 'lfnu': 36.58276348161996,\n",
              " 'hfnu': 63.41723651838005,\n",
              " 'total_power': 451.5078216490898,\n",
              " 'vlf': 138.5822876027927}"
            ]
          },
          "execution_count": 19,
          "metadata": {},
          "output_type": "execute_result"
        }
      ],
      "source": [
        "get_frequency_domain_features(nn_intervals_list)"
      ]
    },
    {
      "cell_type": "code",
      "execution_count": null,
      "id": "8fd0d4ec",
      "metadata": {
        "id": "8fd0d4ec",
        "outputId": "a4e3fc02-b632-4560-9c40-9b83e47b62f5"
      },
      "outputs": [
        {
          "data": {
            "text/plain": [
              "{'csi': 1.3538627893038861,\n",
              " 'cvi': 4.042744349095494,\n",
              " 'Modified_csi': 165.47567159707936}"
            ]
          },
          "execution_count": 20,
          "metadata": {},
          "output_type": "execute_result"
        }
      ],
      "source": [
        "get_csi_cvi_features(nn_intervals_list)"
      ]
    },
    {
      "cell_type": "code",
      "execution_count": null,
      "id": "71498bb7",
      "metadata": {
        "id": "71498bb7",
        "outputId": "75c3b584-382f-48a1-e124-6a00aed4bc5a"
      },
      "outputs": [
        {
          "data": {
            "text/plain": [
              "{'sd1': 22.569651714335414,\n",
              " 'sd2': 30.55621162358738,\n",
              " 'ratio_sd2_sd1': 1.3538627893038861}"
            ]
          },
          "execution_count": 21,
          "metadata": {},
          "output_type": "execute_result"
        }
      ],
      "source": [
        "get_poincare_plot_features(nn_intervals_list)"
      ]
    },
    {
      "cell_type": "code",
      "execution_count": null,
      "id": "48b78e96",
      "metadata": {
        "id": "48b78e96",
        "outputId": "ca269d90-8a81-4f05-beba-33ec671fbd8e"
      },
      "outputs": [
        {
          "data": {
            "text/plain": [
              "{'sampen': 1.7764919970972666}"
            ]
          },
          "execution_count": 22,
          "metadata": {},
          "output_type": "execute_result"
        }
      ],
      "source": [
        "get_sampen(nn_intervals_list)"
      ]
    }
  ],
  "metadata": {
    "kernelspec": {
      "display_name": "Python 3",
      "language": "python",
      "name": "python3"
    },
    "language_info": {
      "codemirror_mode": {
        "name": "ipython",
        "version": 3
      },
      "file_extension": ".py",
      "mimetype": "text/x-python",
      "name": "python",
      "nbconvert_exporter": "python",
      "pygments_lexer": "ipython3",
      "version": "3.6.8"
    },
    "colab": {
      "provenance": [],
      "include_colab_link": true
    }
  },
  "nbformat": 4,
  "nbformat_minor": 5
}